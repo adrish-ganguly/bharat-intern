{
 "cells": [
  {
   "cell_type": "code",
   "execution_count": 2,
   "id": "450a8a46",
   "metadata": {},
   "outputs": [
    {
     "data": {
      "text/html": [
       "<div>\n",
       "<style scoped>\n",
       "    .dataframe tbody tr th:only-of-type {\n",
       "        vertical-align: middle;\n",
       "    }\n",
       "\n",
       "    .dataframe tbody tr th {\n",
       "        vertical-align: top;\n",
       "    }\n",
       "\n",
       "    .dataframe thead th {\n",
       "        text-align: right;\n",
       "    }\n",
       "</style>\n",
       "<table border=\"1\" class=\"dataframe\">\n",
       "  <thead>\n",
       "    <tr style=\"text-align: right;\">\n",
       "      <th></th>\n",
       "      <th>Unnamed: 0</th>\n",
       "      <th>test_cat</th>\n",
       "      <th>test_dog</th>\n",
       "      <th>train_cat</th>\n",
       "      <th>train_dog</th>\n",
       "    </tr>\n",
       "  </thead>\n",
       "  <tbody>\n",
       "    <tr>\n",
       "      <th>0</th>\n",
       "      <td>0</td>\n",
       "      <td>cat_22.wav</td>\n",
       "      <td>dog_barking_97.wav</td>\n",
       "      <td>cat_99.wav</td>\n",
       "      <td>dog_barking_33.wav</td>\n",
       "    </tr>\n",
       "    <tr>\n",
       "      <th>1</th>\n",
       "      <td>1</td>\n",
       "      <td>cat_116.wav</td>\n",
       "      <td>dog_barking_0.wav</td>\n",
       "      <td>cat_54.wav</td>\n",
       "      <td>dog_barking_86.wav</td>\n",
       "    </tr>\n",
       "    <tr>\n",
       "      <th>2</th>\n",
       "      <td>2</td>\n",
       "      <td>cat_155.wav</td>\n",
       "      <td>dog_barking_93.wav</td>\n",
       "      <td>cat_34.wav</td>\n",
       "      <td>dog_barking_45.wav</td>\n",
       "    </tr>\n",
       "    <tr>\n",
       "      <th>3</th>\n",
       "      <td>3</td>\n",
       "      <td>cat_58.wav</td>\n",
       "      <td>dog_barking_10.wav</td>\n",
       "      <td>cat_132.wav</td>\n",
       "      <td>dog_barking_76.wav</td>\n",
       "    </tr>\n",
       "    <tr>\n",
       "      <th>4</th>\n",
       "      <td>4</td>\n",
       "      <td>cat_77.wav</td>\n",
       "      <td>dog_barking_26.wav</td>\n",
       "      <td>cat_124.wav</td>\n",
       "      <td>dog_barking_4.wav</td>\n",
       "    </tr>\n",
       "  </tbody>\n",
       "</table>\n",
       "</div>"
      ],
      "text/plain": [
       "   Unnamed: 0     test_cat            test_dog    train_cat  \\\n",
       "0           0   cat_22.wav  dog_barking_97.wav   cat_99.wav   \n",
       "1           1  cat_116.wav   dog_barking_0.wav   cat_54.wav   \n",
       "2           2  cat_155.wav  dog_barking_93.wav   cat_34.wav   \n",
       "3           3   cat_58.wav  dog_barking_10.wav  cat_132.wav   \n",
       "4           4   cat_77.wav  dog_barking_26.wav  cat_124.wav   \n",
       "\n",
       "            train_dog  \n",
       "0  dog_barking_33.wav  \n",
       "1  dog_barking_86.wav  \n",
       "2  dog_barking_45.wav  \n",
       "3  dog_barking_76.wav  \n",
       "4   dog_barking_4.wav  "
      ]
     },
     "execution_count": 2,
     "metadata": {},
     "output_type": "execute_result"
    }
   ],
   "source": [
    "import pandas as pd\n",
    "catdog=pd.read_csv(\"train_test_split.csv\")\n",
    "catdog.head()"
   ]
  },
  {
   "cell_type": "code",
   "execution_count": 4,
   "id": "cc957938",
   "metadata": {},
   "outputs": [
    {
     "name": "stdout",
     "output_type": "stream",
     "text": [
      "<class 'pandas.core.frame.DataFrame'>\n",
      "RangeIndex: 115 entries, 0 to 114\n",
      "Data columns (total 5 columns):\n",
      " #   Column      Non-Null Count  Dtype \n",
      "---  ------      --------------  ----- \n",
      " 0   Unnamed: 0  115 non-null    int64 \n",
      " 1   test_cat    49 non-null     object\n",
      " 2   test_dog    49 non-null     object\n",
      " 3   train_cat   115 non-null    object\n",
      " 4   train_dog   64 non-null     object\n",
      "dtypes: int64(1), object(4)\n",
      "memory usage: 4.6+ KB\n"
     ]
    }
   ],
   "source": [
    "catdog.info()"
   ]
  },
  {
   "cell_type": "code",
   "execution_count": 5,
   "id": "5901c048",
   "metadata": {},
   "outputs": [
    {
     "data": {
      "text/plain": [
       "Unnamed: 0     0.000000\n",
       "test_cat      57.391304\n",
       "test_dog      57.391304\n",
       "train_cat      0.000000\n",
       "train_dog     44.347826\n",
       "dtype: float64"
      ]
     },
     "execution_count": 5,
     "metadata": {},
     "output_type": "execute_result"
    }
   ],
   "source": [
    "(catdog.isna().sum()/len(catdog))*100 "
   ]
  },
  {
   "cell_type": "code",
   "execution_count": 7,
   "id": "e93bd711",
   "metadata": {},
   "outputs": [
    {
     "data": {
      "text/plain": [
       "cat_99.wav     1\n",
       "cat_102.wav    1\n",
       "cat_91.wav     1\n",
       "cat_167.wav    1\n",
       "cat_97.wav     1\n",
       "              ..\n",
       "cat_143.wav    1\n",
       "cat_75.wav     1\n",
       "cat_26.wav     1\n",
       "cat_14.wav     1\n",
       "cat_113.wav    1\n",
       "Name: train_cat, Length: 115, dtype: int64"
      ]
     },
     "execution_count": 7,
     "metadata": {},
     "output_type": "execute_result"
    }
   ],
   "source": [
    "catdog['train_cat'].value_counts() #Classification problem"
   ]
  },
  {
   "cell_type": "code",
   "execution_count": 9,
   "id": "5436c65b",
   "metadata": {},
   "outputs": [
    {
     "data": {
      "text/plain": [
       "dog_barking_33.wav     1\n",
       "dog_barking_86.wav     1\n",
       "dog_barking_24.wav     1\n",
       "dog_barking_66.wav     1\n",
       "dog_barking_110.wav    1\n",
       "                      ..\n",
       "dog_barking_102.wav    1\n",
       "dog_barking_29.wav     1\n",
       "dog_barking_27.wav     1\n",
       "dog_barking_91.wav     1\n",
       "dog_barking_41.wav     1\n",
       "Name: train_dog, Length: 64, dtype: int64"
      ]
     },
     "execution_count": 9,
     "metadata": {},
     "output_type": "execute_result"
    }
   ],
   "source": [
    "catdog['train_dog'].value_counts()"
   ]
  },
  {
   "cell_type": "code",
   "execution_count": 10,
   "id": "2f824cd5",
   "metadata": {},
   "outputs": [
    {
     "data": {
      "text/plain": [
       "cat_22.wav     1\n",
       "cat_125.wav    1\n",
       "cat_53.wav     1\n",
       "cat_12.wav     1\n",
       "cat_20.wav     1\n",
       "cat_21.wav     1\n",
       "cat_8.wav      1\n",
       "cat_59.wav     1\n",
       "cat_150.wav    1\n",
       "cat_47.wav     1\n",
       "cat_112.wav    1\n",
       "cat_160.wav    1\n",
       "cat_66.wav     1\n",
       "cat_9.wav      1\n",
       "cat_138.wav    1\n",
       "cat_106.wav    1\n",
       "cat_141.wav    1\n",
       "cat_67.wav     1\n",
       "cat_24.wav     1\n",
       "cat_117.wav    1\n",
       "cat_120.wav    1\n",
       "cat_103.wav    1\n",
       "cat_63.wav     1\n",
       "cat_136.wav    1\n",
       "cat_13.wav     1\n",
       "cat_116.wav    1\n",
       "cat_65.wav     1\n",
       "cat_155.wav    1\n",
       "cat_58.wav     1\n",
       "cat_77.wav     1\n",
       "cat_144.wav    1\n",
       "cat_49.wav     1\n",
       "cat_38.wav     1\n",
       "cat_5.wav      1\n",
       "cat_2.wav      1\n",
       "cat_55.wav     1\n",
       "cat_166.wav    1\n",
       "cat_52.wav     1\n",
       "cat_94.wav     1\n",
       "cat_83.wav     1\n",
       "cat_60.wav     1\n",
       "cat_70.wav     1\n",
       "cat_45.wav     1\n",
       "cat_29.wav     1\n",
       "cat_149.wav    1\n",
       "cat_50.wav     1\n",
       "cat_46.wav     1\n",
       "cat_89.wav     1\n",
       "cat_74.wav     1\n",
       "Name: test_cat, dtype: int64"
      ]
     },
     "execution_count": 10,
     "metadata": {},
     "output_type": "execute_result"
    }
   ],
   "source": [
    "catdog['test_cat'].value_counts()"
   ]
  },
  {
   "cell_type": "code",
   "execution_count": 11,
   "id": "ab519aa3",
   "metadata": {},
   "outputs": [
    {
     "data": {
      "text/plain": [
       "cat_22.wav     1\n",
       "cat_125.wav    1\n",
       "cat_53.wav     1\n",
       "cat_12.wav     1\n",
       "cat_20.wav     1\n",
       "cat_21.wav     1\n",
       "cat_8.wav      1\n",
       "cat_59.wav     1\n",
       "cat_150.wav    1\n",
       "cat_47.wav     1\n",
       "cat_112.wav    1\n",
       "cat_160.wav    1\n",
       "cat_66.wav     1\n",
       "cat_9.wav      1\n",
       "cat_138.wav    1\n",
       "cat_106.wav    1\n",
       "cat_141.wav    1\n",
       "cat_67.wav     1\n",
       "cat_24.wav     1\n",
       "cat_117.wav    1\n",
       "cat_120.wav    1\n",
       "cat_103.wav    1\n",
       "cat_63.wav     1\n",
       "cat_136.wav    1\n",
       "cat_13.wav     1\n",
       "cat_116.wav    1\n",
       "cat_65.wav     1\n",
       "cat_155.wav    1\n",
       "cat_58.wav     1\n",
       "cat_77.wav     1\n",
       "cat_144.wav    1\n",
       "cat_49.wav     1\n",
       "cat_38.wav     1\n",
       "cat_5.wav      1\n",
       "cat_2.wav      1\n",
       "cat_55.wav     1\n",
       "cat_166.wav    1\n",
       "cat_52.wav     1\n",
       "cat_94.wav     1\n",
       "cat_83.wav     1\n",
       "cat_60.wav     1\n",
       "cat_70.wav     1\n",
       "cat_45.wav     1\n",
       "cat_29.wav     1\n",
       "cat_149.wav    1\n",
       "cat_50.wav     1\n",
       "cat_46.wav     1\n",
       "cat_89.wav     1\n",
       "cat_74.wav     1\n",
       "Name: test_cat, dtype: int64"
      ]
     },
     "execution_count": 11,
     "metadata": {},
     "output_type": "execute_result"
    }
   ],
   "source": [
    "catdog['test_cat'].value_counts()"
   ]
  },
  {
   "cell_type": "code",
   "execution_count": 14,
   "id": "d2296e98",
   "metadata": {},
   "outputs": [
    {
     "data": {
      "text/plain": [
       "Series([], Name: train_cat, dtype: object)"
      ]
     },
     "execution_count": 14,
     "metadata": {},
     "output_type": "execute_result"
    }
   ],
   "source": [
    "catdog['train_cat'][catdog['train_cat'].duplicated()] #No duplicated value in train_cat feature !"
   ]
  },
  {
   "cell_type": "code",
   "execution_count": 15,
   "id": "40455bbb",
   "metadata": {},
   "outputs": [
    {
     "data": {
      "text/plain": [
       "50     NaN\n",
       "51     NaN\n",
       "52     NaN\n",
       "53     NaN\n",
       "54     NaN\n",
       "      ... \n",
       "110    NaN\n",
       "111    NaN\n",
       "112    NaN\n",
       "113    NaN\n",
       "114    NaN\n",
       "Name: test_dog, Length: 65, dtype: object"
      ]
     },
     "execution_count": 15,
     "metadata": {},
     "output_type": "execute_result"
    }
   ],
   "source": [
    "catdog['test_dog'][catdog['test_dog'].duplicated()]"
   ]
  },
  {
   "cell_type": "code",
   "execution_count": 16,
   "id": "20fd9ad7",
   "metadata": {},
   "outputs": [
    {
     "data": {
      "text/plain": [
       "dog_barking_97.wav     1\n",
       "dog_barking_92.wav     1\n",
       "dog_barking_3.wav      1\n",
       "dog_barking_51.wav     1\n",
       "dog_barking_39.wav     1\n",
       "dog_barking_21.wav     1\n",
       "dog_barking_73.wav     1\n",
       "dog_barking_40.wav     1\n",
       "dog_barking_103.wav    1\n",
       "dog_barking_32.wav     1\n",
       "dog_barking_34.wav     1\n",
       "dog_barking_64.wav     1\n",
       "dog_barking_104.wav    1\n",
       "dog_barking_61.wav     1\n",
       "dog_barking_11.wav     1\n",
       "dog_barking_70.wav     1\n",
       "dog_barking_43.wav     1\n",
       "dog_barking_112.wav    1\n",
       "dog_barking_44.wav     1\n",
       "dog_barking_109.wav    1\n",
       "dog_barking_69.wav     1\n",
       "dog_barking_77.wav     1\n",
       "dog_barking_60.wav     1\n",
       "dog_barking_71.wav     1\n",
       "dog_barking_96.wav     1\n",
       "dog_barking_0.wav      1\n",
       "dog_barking_38.wav     1\n",
       "dog_barking_93.wav     1\n",
       "dog_barking_10.wav     1\n",
       "dog_barking_26.wav     1\n",
       "dog_barking_28.wav     1\n",
       "dog_barking_106.wav    1\n",
       "dog_barking_5.wav      1\n",
       "dog_barking_94.wav     1\n",
       "dog_barking_65.wav     1\n",
       "dog_barking_18.wav     1\n",
       "dog_barking_100.wav    1\n",
       "dog_barking_78.wav     1\n",
       "dog_barking_48.wav     1\n",
       "dog_barking_35.wav     1\n",
       "dog_barking_82.wav     1\n",
       "dog_barking_1.wav      1\n",
       "dog_barking_15.wav     1\n",
       "dog_barking_42.wav     1\n",
       "dog_barking_8.wav      1\n",
       "dog_barking_47.wav     1\n",
       "dog_barking_52.wav     1\n",
       "dog_barking_63.wav     1\n",
       "dog_barking_57.wav     1\n",
       "Name: test_dog, dtype: int64"
      ]
     },
     "execution_count": 16,
     "metadata": {},
     "output_type": "execute_result"
    }
   ],
   "source": [
    "catdog['test_dog'].value_counts()"
   ]
  },
  {
   "cell_type": "code",
   "execution_count": 17,
   "id": "92db2ba0",
   "metadata": {},
   "outputs": [],
   "source": [
    "#data cleaning\n",
    "catdog.drop(['test_dog', 'train_cat',], axis=1, inplace=True)"
   ]
  },
  {
   "cell_type": "code",
   "execution_count": 23,
   "id": "523a9ea7",
   "metadata": {},
   "outputs": [
    {
     "data": {
      "text/plain": [
       "Unnamed: 0     0.000000\n",
       "test_cat      57.391304\n",
       "train_dog     44.347826\n",
       "dtype: float64"
      ]
     },
     "execution_count": 23,
     "metadata": {},
     "output_type": "execute_result"
    }
   ],
   "source": [
    "(catdog.isna().sum()/len(catdog))*100 "
   ]
  },
  {
   "cell_type": "code",
   "execution_count": 41,
   "id": "034e0b83",
   "metadata": {},
   "outputs": [
    {
     "name": "stderr",
     "output_type": "stream",
     "text": [
      "No artists with labels found to put in legend.  Note that artists whose label start with an underscore are ignored when legend() is called with no argument.\n"
     ]
    },
    {
     "data": {
      "image/png": "[encoded data removed]",
      "text/plain": [
       "<Figure size 300x200 with 1 Axes>"
      ]
     },
     "metadata": {},
     "output_type": "display_data"
    }
   ],
   "source": [
    "#Data Analysis\n",
    "\n",
    "from matplotlib import pyplot as plt\n",
    "\n",
    "classes_distribution = catdog['train_dog'].value_counts()\n",
    "\n",
    "# Plotting the histogram\n",
    "plt.figure(figsize=(3,2))\n",
    "plt.bar(classes_distribution.index, classes_distribution.values, color=['red', 'blue'])\n",
    "plt.ylabel('x')\n",
    "plt.title('y')\n",
    "plt.legend()\n",
    "plt.show()"
   ]
  },
  {
   "cell_type": "code",
   "execution_count": 42,
   "id": "8f771beb",
   "metadata": {},
   "outputs": [
    {
     "data": {
      "image/png": "[encoded data removed]",
      "text/plain": [
       "<Figure size 300x200 with 1 Axes>"
      ]
     },
     "metadata": {},
     "output_type": "display_data"
    }
   ],
   "source": [
    "classes_distribution = catdog['train_dog'].value_counts()\n",
    "\n",
    "# Plotting the histogram\n",
    "plt.figure(figsize=(3, 2))\n",
    "plt.bar(classes_distribution.index, classes_distribution.values)\n",
    "plt.xlabel('train_dog')\n",
    "plt.ylabel('test_cat')\n",
    "plt.title('Distribution of train_dog')\n",
    "plt.show()"
   ]
  },
  {
   "cell_type": "code",
   "execution_count": 44,
   "id": "4083183d",
   "metadata": {},
   "outputs": [
    {
     "data": {
      "image/png": "[encoded data removed]",
      "text/plain": [
       "<Figure size 300x300 with 1 Axes>"
      ]
     },
     "metadata": {},
     "output_type": "display_data"
    }
   ],
   "source": [
    "classes_distribution = catdog['test_cat'].value_counts()\n",
    "\n",
    "# Plotting the histogram\n",
    "plt.figure(figsize=(3, 3))\n",
    "plt.bar(classes_distribution.index, classes_distribution.values, color=['blue', 'red'])\n",
    "plt.ylabel('train_dog')\n",
    "plt.title('Distribution of test_cat')\n",
    "plt.show()"
   ]
  },
  {
   "cell_type": "code",
   "execution_count": 47,
   "id": "f3314a0d",
   "metadata": {},
   "outputs": [],
   "source": [
    "catdog['test_cat']=catdog['test_cat'].apply(lambda x: 1 if x == 'P' else 0)\n",
    "catdog['train_dog']=catdog['train_dog'].apply(lambda x: 1 if x == 'Q' else 0)"
   ]
  },
  {
   "cell_type": "code",
   "execution_count": 48,
   "id": "22a57313",
   "metadata": {},
   "outputs": [
    {
     "data": {
      "text/html": [
       "<div>\n",
       "<style scoped>\n",
       "    .dataframe tbody tr th:only-of-type {\n",
       "        vertical-align: middle;\n",
       "    }\n",
       "\n",
       "    .dataframe tbody tr th {\n",
       "        vertical-align: top;\n",
       "    }\n",
       "\n",
       "    .dataframe thead th {\n",
       "        text-align: right;\n",
       "    }\n",
       "</style>\n",
       "<table border=\"1\" class=\"dataframe\">\n",
       "  <thead>\n",
       "    <tr style=\"text-align: right;\">\n",
       "      <th></th>\n",
       "      <th>Unnamed: 0</th>\n",
       "      <th>test_cat</th>\n",
       "      <th>train_dog</th>\n",
       "    </tr>\n",
       "  </thead>\n",
       "  <tbody>\n",
       "    <tr>\n",
       "      <th>Unnamed: 0</th>\n",
       "      <td>1.0</td>\n",
       "      <td>NaN</td>\n",
       "      <td>NaN</td>\n",
       "    </tr>\n",
       "    <tr>\n",
       "      <th>test_cat</th>\n",
       "      <td>NaN</td>\n",
       "      <td>NaN</td>\n",
       "      <td>NaN</td>\n",
       "    </tr>\n",
       "    <tr>\n",
       "      <th>train_dog</th>\n",
       "      <td>NaN</td>\n",
       "      <td>NaN</td>\n",
       "      <td>NaN</td>\n",
       "    </tr>\n",
       "  </tbody>\n",
       "</table>\n",
       "</div>"
      ],
      "text/plain": [
       "            Unnamed: 0  test_cat  train_dog\n",
       "Unnamed: 0         1.0       NaN        NaN\n",
       "test_cat           NaN       NaN        NaN\n",
       "train_dog          NaN       NaN        NaN"
      ]
     },
     "execution_count": 48,
     "metadata": {},
     "output_type": "execute_result"
    }
   ],
   "source": [
    "catdog.corr()"
   ]
  },
  {
   "cell_type": "code",
   "execution_count": 49,
   "id": "a7b8d17e",
   "metadata": {},
   "outputs": [],
   "source": [
    "import numpy as np\n",
    "catdog['test_cat'].fillna(np.floor(catdog['test_cat'].mean()), inplace=True)"
   ]
  },
  {
   "cell_type": "code",
   "execution_count": 50,
   "id": "92ee712f",
   "metadata": {},
   "outputs": [],
   "source": [
    "catdog['test_cat']=(catdog['test_cat']-catdog['test_cat'].mean())/catdog['test_cat'].std()"
   ]
  },
  {
   "cell_type": "code",
   "execution_count": 51,
   "id": "a7ceb403",
   "metadata": {},
   "outputs": [],
   "source": [
    "catdog['train_dog']=(catdog['train_dog']-catdog['train_dog'].mean())/catdog['train_dog'].std()"
   ]
  },
  {
   "cell_type": "code",
   "execution_count": 52,
   "id": "b01e3143",
   "metadata": {},
   "outputs": [
    {
     "data": {
      "text/plain": [
       "Unnamed: 0      0.0\n",
       "test_cat      100.0\n",
       "train_dog     100.0\n",
       "dtype: float64"
      ]
     },
     "execution_count": 52,
     "metadata": {},
     "output_type": "execute_result"
    }
   ],
   "source": [
    "(catdog.isna().sum()/len(catdog))*100 "
   ]
  },
  {
   "cell_type": "code",
   "execution_count": null,
   "id": "a02b5707",
   "metadata": {},
   "outputs": [],
   "source": []
  },
  {
   "cell_type": "code",
   "execution_count": null,
   "id": "0b215078",
   "metadata": {},
   "outputs": [],
   "source": []
  }
 ],
 "metadata": {
  "kernelspec": {
   "display_name": "Python 3 (ipykernel)",
   "language": "python",
   "name": "python3"
  },
  "language_info": {
   "codemirror_mode": {
    "name": "ipython",
    "version": 3
   },
   "file_extension": ".py",
   "mimetype": "text/x-python",
   "name": "python",
   "nbconvert_exporter": "python",
   "pygments_lexer": "ipython3",
   "version": "3.11.4"
  }
 },
 "nbformat": 4,
 "nbformat_minor": 5
}
